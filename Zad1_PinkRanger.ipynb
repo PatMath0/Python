{
 "cells": [
  {
   "cell_type": "code",
   "execution_count": 2,
   "metadata": {},
   "outputs": [
    {
     "name": "stdout",
     "output_type": "stream",
     "text": [
      "Heloł, to moja funkcja\n"
     ]
    }
   ],
   "source": [
    "#Zad1\n",
    "from  moj_folder.moje_funkcje import fun\n",
    "fun()"
   ]
  },
  {
   "cell_type": "code",
   "execution_count": 56,
   "metadata": {},
   "outputs": [
    {
     "name": "stdout",
     "output_type": "stream",
     "text": [
      "([1, 2, 1, 2], [2, 4])\n",
      "(3, 6)\n",
      "True\n",
      "True\n",
      "True\n",
      "True\n",
      "True\n",
      "True\n"
     ]
    }
   ],
   "source": [
    "#Zad2\n",
    "import numpy as np\n",
    "\n",
    "def double(x):\n",
    "    if isinstance(x, (int, float)):\n",
    "        double_x =  2*x\n",
    "    elif isinstance(x, list):\n",
    "        double_x = [x+x for x in x]\n",
    "        x = x+x\n",
    "    else:\n",
    "        double_x = print(\"Funkcja nie obsługuje takiego formatu :(\")\n",
    "    return x, double_x\n",
    "\n",
    "\n",
    "x = 3.\n",
    "print(double(x) == (3., 6.))\n",
    "print(x == 3.)\n",
    "\n",
    "z = [3]\n",
    "print(double(z) == ([3, 3], [6]))\n",
    "print(z == [3])\n",
    "\n",
    "w = [1, 2, 3]\n",
    "print(double(w) == ([1, 2, 3, 1, 2, 3], [2, 4, 6]))\n",
    "print(w == [1, 2, 3])\n"
   ]
  }
 ],
 "metadata": {
  "kernelspec": {
   "display_name": "Python 3",
   "language": "python",
   "name": "python3"
  },
  "language_info": {
   "codemirror_mode": {
    "name": "ipython",
    "version": 3
   },
   "file_extension": ".py",
   "mimetype": "text/x-python",
   "name": "python",
   "nbconvert_exporter": "python",
   "pygments_lexer": "ipython3",
   "version": "3.6.4"
  }
 },
 "nbformat": 4,
 "nbformat_minor": 2
}
