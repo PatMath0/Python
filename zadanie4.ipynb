{
 "cells": [
  {
   "cell_type": "markdown",
   "metadata": {},
   "source": [
    "### Dziedziczenie "
   ]
  },
  {
   "cell_type": "markdown",
   "metadata": {},
   "source": [
    "Klasy (obiekty) mogą dziedziczyć po sobie. To oznacza, że wszystkie metody i atrybuty, które zostały zaimplementowanie w klasie bazowej, przechodzą na klasę pochodną. Przykład poniżej. W klasie B nie musimy już definiować funkcji."
   ]
  },
  {
   "cell_type": "code",
   "execution_count": 1,
   "metadata": {},
   "outputs": [
    {
     "name": "stdout",
     "output_type": "stream",
     "text": [
      "<__main__.Planet object at 0x7fd74891f160>\n",
      "H2O\n"
     ]
    },
    {
     "data": {
      "text/plain": [
       "20"
      ]
     },
     "execution_count": 1,
     "metadata": {},
     "output_type": "execute_result"
    }
   ],
   "source": [
    "class Planet:\n",
    "    \n",
    "    orbit = \"Sun\"\n",
    "    \n",
    "    def __init__(self, radius, mass):\n",
    "        self.promien = radius\n",
    "        self.masa = mass\n",
    "    \n",
    "    \n",
    "class Earth(Planet):\n",
    "    \n",
    "    def __init__(self, radius, mass, temperature):\n",
    "        Planet.__init__(self, radius, mass)\n",
    "        self.temperatura = temperature\n",
    "    \n",
    "    def start_life(self):\n",
    "        print(\"H2O\")\n",
    "        \n",
    "\n",
    "mars = Planet(100, 1e90)\n",
    "print(mars)\n",
    "\n",
    "ziemia = Earth(20, 30, 30)\n",
    "    \n",
    "ziemia.start_life()\n",
    "ziemia.promien"
   ]
  },
  {
   "cell_type": "markdown",
   "metadata": {},
   "source": [
    "### Zdanie\n",
    "Napisać klasę członka Koła Naukowego (imię, nazwisko, czy zapłacił składkę), następnie stworzyć drugą klasę członka grupy DR, która będzie dziedziczyć po członku Koła Naukowego. Dodatkwo będzie posiadać metodę zliczającą zrobione zadania i pseudonim :)"
   ]
  },
  {
   "cell_type": "code",
   "execution_count": 18,
   "metadata": {},
   "outputs": [
    {
     "name": "stdout",
     "output_type": "stream",
     "text": [
      "Patrycja Sobczyk\n",
      "Czy zapłaciłem składke? Tak\n",
      "Pseudonim: Pink Ranger\n",
      "Liczba zrobionych zadań:3\n"
     ]
    }
   ],
   "source": [
    "class KNMF:\n",
    "    \n",
    "    def __init__(self, imie, nazwisko, zaplacil):\n",
    "        self.name = imie\n",
    "        self.surname = nazwisko\n",
    "        self.pay = zaplacil\n",
    "        \n",
    "class DrMember:\n",
    "    \n",
    "    def __init__(self, imie, nazwisko, zaplacil, pseudonim, n_zadan):\n",
    "        KNMF.__init__(self, imie, nazwisko, zaplacil)\n",
    "        self.pseudo = pseudonim\n",
    "        self.homework = n_zadan\n",
    "        \n",
    "    def __str__(self):\n",
    "        if self.pay:\n",
    "            skladka = \"Tak\"\n",
    "        else:\n",
    "            skladka = \"Nie\"    \n",
    "        return  self.name +' '+ self.surname + '\\nCzy zapłaciłem składke? ' + str(skladka) + '\\nPseudonim: ' +self.pseudo +'\\nLiczba zrobionych zadań:' + str(self.homework) \n",
    "    \n",
    "    def solved_problem(self):\n",
    "        self.homework = self.homework + 1\n",
    "            \n",
    "# czlonek = KNMF(\"Patrycja\", \"Sobczyk\", True)\n",
    "# print(czlonek)\n",
    "czlonek1 = DrMember(\"Patrycja\", \"Sobczyk\", True, \"Pink Ranger\", n_zadan=2) \n",
    "czlonek1.solved_problem()\n",
    "print(czlonek1)"
   ]
  }
 ],
 "metadata": {
  "kernelspec": {
   "display_name": "Python 3",
   "language": "python",
   "name": "python3"
  },
  "language_info": {
   "codemirror_mode": {
    "name": "ipython",
    "version": 3
   },
   "file_extension": ".py",
   "mimetype": "text/x-python",
   "name": "python",
   "nbconvert_exporter": "python",
   "pygments_lexer": "ipython3",
   "version": "3.6.6"
  }
 },
 "nbformat": 4,
 "nbformat_minor": 2
}
